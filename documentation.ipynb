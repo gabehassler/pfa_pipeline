{
 "cells": [
  {
   "cell_type": "markdown",
   "metadata": {},
   "source": [
    "# Phylogenetic Factor Analysis Pipeline"
   ]
  },
  {
   "cell_type": "markdown",
   "metadata": {},
   "source": [
    "## 1. Setup Data Files\n",
    "\n",
    "To run this analysis, you need to specify the locations of the following files in the __data__ directory of this repository:\n",
    " - CSV file containing the trait data\n",
    " - Text file with the phylogenetic tree in newick form\n",
    "\n",
    "Here are the files in the __data__ directory."
   ]
  },
  {
   "cell_type": "code",
   "execution_count": 1,
   "metadata": {},
   "outputs": [
    {
     "data": {
      "text/plain": [
       "3-element Array{String,1}:\n",
       " \"mammals_labels.csv\"\n",
       " \"mammals_log_data.csv\"\n",
       " \"mammals_trimmed_newick.txt\""
      ]
     },
     "execution_count": 1,
     "metadata": {},
     "output_type": "execute_result"
    }
   ],
   "source": [
    "cd(\"data\") # setting the working directory to the \"data\" folder\n",
    "readdir() # showing the files in the directory"
   ]
  },
  {
   "cell_type": "markdown",
   "metadata": {},
   "source": [
    "Right now, we care about the __mammals_log_data.csv__ file (which stores the trait data) and the __mammals_trimmed_newick.txt__ file (which contains the phylogenetic tree)."
   ]
  },
  {
   "cell_type": "markdown",
   "metadata": {},
   "source": [
    "### Trait Data\n",
    "\n",
    "The file containing the data must have labeled columns, with the first column labeled \"taxon\"."
   ]
  },
  {
   "cell_type": "code",
   "execution_count": 3,
   "metadata": {},
   "outputs": [
    {
     "data": {
      "text/html": [
       "<table class=\"data-frame\"><thead><tr><th></th><th>taxon</th><th>body_mass</th><th>age_at_first_birth</th><th>gestation_length</th><th>litter_size</th></tr><tr><th></th><th>String</th><th>Float64⍰</th><th>Float64⍰</th><th>Float64⍰</th><th>Float64⍰</th></tr></thead><tbody><p>3,649 rows × 9 columns (omitted printing of 4 columns)</p><tr><th>1</th><td>Camelus_dromedarius</td><td>5.6926</td><td>3.21791</td><td>2.58716</td><td>-0.00877392</td></tr><tr><th>2</th><td>Canis_adustus</td><td>4.01672</td><td>missing</td><td>1.81291</td><td>0.653213</td></tr><tr><th>3</th><td>Canis_aureus</td><td>3.98492</td><td>missing</td><td>1.78704</td><td>0.572872</td></tr><tr><th>4</th><td>Canis_latrans</td><td>4.07879</td><td>2.56229</td><td>1.79057</td><td>0.757396</td></tr><tr><th>5</th><td>Canis_lupus</td><td>4.50183</td><td>2.73838</td><td>1.80277</td><td>0.697229</td></tr><tr><th>6</th><td>Bos_frontalis</td><td>5.90317</td><td>missing</td><td>2.43735</td><td>0.0863598</td></tr><tr><th>7</th><td>Bos_grunniens</td><td>5.69897</td><td>missing</td><td>2.43735</td><td>0.0</td></tr><tr><th>8</th><td>Bos_javanicus</td><td>5.80344</td><td>2.96023</td><td>2.47243</td><td>0.0863598</td></tr><tr><th>9</th><td>Callicebus_cupreus</td><td>3.04806</td><td>missing</td><td>2.11143</td><td>0.00432137</td></tr><tr><th>10</th><td>Callicebus_donacophilus</td><td>2.95312</td><td>missing</td><td>missing</td><td>0.00860017</td></tr><tr><th>11</th><td>Callicebus_dubius</td><td>2.99669</td><td>missing</td><td>missing</td><td>0.00860017</td></tr><tr><th>12</th><td>Callicebus_hoffmannsi</td><td>3.02841</td><td>missing</td><td>missing</td><td>0.00860017</td></tr><tr><th>13</th><td>Callicebus_modestus</td><td>2.99669</td><td>missing</td><td>missing</td><td>0.00860017</td></tr><tr><th>14</th><td>Caluromys_derbianus</td><td>2.51418</td><td>missing</td><td>missing</td><td>0.49693</td></tr><tr><th>15</th><td>Caluromys_lanatus</td><td>2.54448</td><td>missing</td><td>missing</td><td>missing</td></tr><tr><th>16</th><td>Caluromys_philander</td><td>2.39176</td><td>2.5245</td><td>1.38003</td><td>0.621176</td></tr><tr><th>17</th><td>Caluromysiops_irrupta</td><td>2.41074</td><td>missing</td><td>missing</td><td>0.30103</td></tr><tr><th>18</th><td>Calyptophractus_retusus</td><td>2.11391</td><td>missing</td><td>missing</td><td>missing</td></tr><tr><th>19</th><td>Camelus_bactrianus</td><td>5.74391</td><td>3.16435</td><td>2.59987</td><td>0.143015</td></tr><tr><th>20</th><td>Bos_sauveli</td><td>5.89835</td><td>missing</td><td>missing</td><td>missing</td></tr><tr><th>21</th><td>Bos_taurus</td><td>5.79144</td><td>missing</td><td>2.4479</td><td>missing</td></tr><tr><th>22</th><td>Boselaphus_tragocamelus</td><td>5.26067</td><td>2.96023</td><td>2.39531</td><td>0.143015</td></tr><tr><th>23</th><td>Canis_mesomelas</td><td>3.91631</td><td>missing</td><td>1.79588</td><td>0.58995</td></tr><tr><th>24</th><td>Canis_simensis</td><td>4.15721</td><td>missing</td><td>1.80353</td><td>missing</td></tr><tr><th>25</th><td>Cannomys_badius</td><td>2.67401</td><td>missing</td><td>1.61794</td><td>0.30103</td></tr><tr><th>26</th><td>Caperea_marginata</td><td>7.50515</td><td>missing</td><td>missing</td><td>-0.00877392</td></tr><tr><th>27</th><td>Capra_caucasica</td><td>4.76455</td><td>missing</td><td>2.19033</td><td>0.0374265</td></tr><tr><th>28</th><td>Capra_falconeri</td><td>4.73483</td><td>2.86332</td><td>2.22526</td><td>0.238046</td></tr><tr><th>29</th><td>Capra_hircus</td><td>4.67565</td><td>2.82553</td><td>2.19312</td><td>0.161368</td></tr><tr><th>30</th><td>Capra_ibex</td><td>4.84228</td><td>2.96023</td><td>2.22401</td><td>0.045323</td></tr><tr><th>&vellip;</th><td>&vellip;</td><td>&vellip;</td><td>&vellip;</td><td>&vellip;</td><td>&vellip;</td></tr></tbody></table>"
      ],
      "text/latex": [
       "\\begin{tabular}{r|cccccc}\n",
       "\t& taxon & body\\_mass & age\\_at\\_first\\_birth & gestation\\_length & litter\\_size & \\\\\n",
       "\t\\hline\n",
       "\t& String & Float64⍰ & Float64⍰ & Float64⍰ & Float64⍰ & \\\\\n",
       "\t\\hline\n",
       "\t1 & Camelus\\_dromedarius & 5.6926 & 3.21791 & 2.58716 & -0.00877392 & $\\dots$ \\\\\n",
       "\t2 & Canis\\_adustus & 4.01672 &  & 1.81291 & 0.653213 & $\\dots$ \\\\\n",
       "\t3 & Canis\\_aureus & 3.98492 &  & 1.78704 & 0.572872 & $\\dots$ \\\\\n",
       "\t4 & Canis\\_latrans & 4.07879 & 2.56229 & 1.79057 & 0.757396 & $\\dots$ \\\\\n",
       "\t5 & Canis\\_lupus & 4.50183 & 2.73838 & 1.80277 & 0.697229 & $\\dots$ \\\\\n",
       "\t6 & Bos\\_frontalis & 5.90317 &  & 2.43735 & 0.0863598 & $\\dots$ \\\\\n",
       "\t7 & Bos\\_grunniens & 5.69897 &  & 2.43735 & 0.0 & $\\dots$ \\\\\n",
       "\t8 & Bos\\_javanicus & 5.80344 & 2.96023 & 2.47243 & 0.0863598 & $\\dots$ \\\\\n",
       "\t9 & Callicebus\\_cupreus & 3.04806 &  & 2.11143 & 0.00432137 & $\\dots$ \\\\\n",
       "\t10 & Callicebus\\_donacophilus & 2.95312 &  &  & 0.00860017 & $\\dots$ \\\\\n",
       "\t11 & Callicebus\\_dubius & 2.99669 &  &  & 0.00860017 & $\\dots$ \\\\\n",
       "\t12 & Callicebus\\_hoffmannsi & 3.02841 &  &  & 0.00860017 & $\\dots$ \\\\\n",
       "\t13 & Callicebus\\_modestus & 2.99669 &  &  & 0.00860017 & $\\dots$ \\\\\n",
       "\t14 & Caluromys\\_derbianus & 2.51418 &  &  & 0.49693 & $\\dots$ \\\\\n",
       "\t15 & Caluromys\\_lanatus & 2.54448 &  &  &  & $\\dots$ \\\\\n",
       "\t16 & Caluromys\\_philander & 2.39176 & 2.5245 & 1.38003 & 0.621176 & $\\dots$ \\\\\n",
       "\t17 & Caluromysiops\\_irrupta & 2.41074 &  &  & 0.30103 & $\\dots$ \\\\\n",
       "\t18 & Calyptophractus\\_retusus & 2.11391 &  &  &  & $\\dots$ \\\\\n",
       "\t19 & Camelus\\_bactrianus & 5.74391 & 3.16435 & 2.59987 & 0.143015 & $\\dots$ \\\\\n",
       "\t20 & Bos\\_sauveli & 5.89835 &  &  &  & $\\dots$ \\\\\n",
       "\t21 & Bos\\_taurus & 5.79144 &  & 2.4479 &  & $\\dots$ \\\\\n",
       "\t22 & Boselaphus\\_tragocamelus & 5.26067 & 2.96023 & 2.39531 & 0.143015 & $\\dots$ \\\\\n",
       "\t23 & Canis\\_mesomelas & 3.91631 &  & 1.79588 & 0.58995 & $\\dots$ \\\\\n",
       "\t24 & Canis\\_simensis & 4.15721 &  & 1.80353 &  & $\\dots$ \\\\\n",
       "\t25 & Cannomys\\_badius & 2.67401 &  & 1.61794 & 0.30103 & $\\dots$ \\\\\n",
       "\t26 & Caperea\\_marginata & 7.50515 &  &  & -0.00877392 & $\\dots$ \\\\\n",
       "\t27 & Capra\\_caucasica & 4.76455 &  & 2.19033 & 0.0374265 & $\\dots$ \\\\\n",
       "\t28 & Capra\\_falconeri & 4.73483 & 2.86332 & 2.22526 & 0.238046 & $\\dots$ \\\\\n",
       "\t29 & Capra\\_hircus & 4.67565 & 2.82553 & 2.19312 & 0.161368 & $\\dots$ \\\\\n",
       "\t30 & Capra\\_ibex & 4.84228 & 2.96023 & 2.22401 & 0.045323 & $\\dots$ \\\\\n",
       "\t$\\dots$ & $\\dots$ & $\\dots$ & $\\dots$ & $\\dots$ & $\\dots$ &  \\\\\n",
       "\\end{tabular}\n"
      ],
      "text/plain": [
       "3649×9 DataFrame. Omitted printing of 6 columns\n",
       "│ Row  │ taxon                   │ body_mass │ age_at_first_birth │\n",
       "│      │ \u001b[90mString\u001b[39m                  │ \u001b[90mFloat64⍰\u001b[39m  │ \u001b[90mFloat64⍰\u001b[39m           │\n",
       "├──────┼─────────────────────────┼───────────┼────────────────────┤\n",
       "│ 1    │ Camelus_dromedarius     │ 5.6926    │ 3.21791            │\n",
       "│ 2    │ Canis_adustus           │ 4.01672   │ \u001b[90mmissing\u001b[39m            │\n",
       "│ 3    │ Canis_aureus            │ 3.98492   │ \u001b[90mmissing\u001b[39m            │\n",
       "│ 4    │ Canis_latrans           │ 4.07879   │ 2.56229            │\n",
       "│ 5    │ Canis_lupus             │ 4.50183   │ 2.73838            │\n",
       "│ 6    │ Bos_frontalis           │ 5.90317   │ \u001b[90mmissing\u001b[39m            │\n",
       "│ 7    │ Bos_grunniens           │ 5.69897   │ \u001b[90mmissing\u001b[39m            │\n",
       "│ 8    │ Bos_javanicus           │ 5.80344   │ 2.96023            │\n",
       "│ 9    │ Callicebus_cupreus      │ 3.04806   │ \u001b[90mmissing\u001b[39m            │\n",
       "│ 10   │ Callicebus_donacophilus │ 2.95312   │ \u001b[90mmissing\u001b[39m            │\n",
       "⋮\n",
       "│ 3639 │ Zelotomys_woosnami      │ 1.7332    │ \u001b[90mmissing\u001b[39m            │\n",
       "│ 3640 │ Zenkerella_insignis     │ 2.30103   │ \u001b[90mmissing\u001b[39m            │\n",
       "│ 3641 │ Ziphius_cavirostris     │ 6.67897   │ \u001b[90mmissing\u001b[39m            │\n",
       "│ 3642 │ Zygodontomys_brevicauda │ 1.71784   │ \u001b[90mmissing\u001b[39m            │\n",
       "│ 3643 │ Zygodontomys_brunneus   │ 1.87846   │ \u001b[90mmissing\u001b[39m            │\n",
       "│ 3644 │ Zygogeomys_trichopus    │ 2.67536   │ \u001b[90mmissing\u001b[39m            │\n",
       "│ 3645 │ Zyzomys_argurus         │ 1.6066    │ \u001b[90mmissing\u001b[39m            │\n",
       "│ 3646 │ Zyzomys_maini           │ 1.97308   │ \u001b[90mmissing\u001b[39m            │\n",
       "│ 3647 │ Zyzomys_palatilis       │ 2.08991   │ \u001b[90mmissing\u001b[39m            │\n",
       "│ 3648 │ Zyzomys_pedunculatus    │ 2.0       │ \u001b[90mmissing\u001b[39m            │\n",
       "│ 3649 │ Zyzomys_woodwardi       │ 1.97782   │ \u001b[90mmissing\u001b[39m            │"
      ]
     },
     "execution_count": 3,
     "metadata": {},
     "output_type": "execute_result"
    }
   ],
   "source": [
    "using CSV, DataFrames # importing packages to work with CSV files and data frames\n",
    "CSV.read(\"mammals_log_data.csv\")"
   ]
  },
  {
   "cell_type": "markdown",
   "metadata": {},
   "source": [
    "### Phylogenetic Tree\n",
    "\n",
    "The tree structure should be in newick format."
   ]
  },
  {
   "cell_type": "code",
   "execution_count": 14,
   "metadata": {},
   "outputs": [
    {
     "data": {
      "text/plain": [
       "\"(((Tachyglossus_aculeatus:13.7,Zaglossus_bruijni:13.7):49.9,Ornithorhynchus_anatinus:63.6):102.6,(((\""
      ]
     },
     "execution_count": 14,
     "metadata": {},
     "output_type": "execute_result"
    }
   ],
   "source": [
    "newick = read(\"mammals_trimmed_newick.txt\", String)\n",
    "newick[1:100] # only showing the beginning of the newick as it is very large"
   ]
  },
  {
   "cell_type": "markdown",
   "metadata": {},
   "source": [
    "### <font color='red'>Set the data and tree file names in the `instructions.jl` file </font>\n",
    "\n",
    "In the `instructions.jl` file, set the following variables, replacing `mammals_example`, `mammals_log_data.csv`, and `mammals_trimmed_newick.txt` with the values / files relevant to your analysis."
   ]
  },
  {
   "cell_type": "code",
   "execution_count": 20,
   "metadata": {},
   "outputs": [],
   "source": [
    "name = \"mammals_example\" # this will be the folder name that the results are stored\n",
    "                         # in as well as the name of the final xml and log files\n",
    "\n",
    "data_filename = \"mammals_log_data.csv\" # csv file where the data are stored (must be in ./data directory)\n",
    "newick_filename = \"mammals_trimmed_newick.txt\" # file where the newick tree is stored (must be in ./data directory)\n",
    ";"
   ]
  },
  {
   "cell_type": "markdown",
   "metadata": {},
   "source": [
    "## 2. Setup model selection\n",
    "\n",
    "Before running the final analysis, we must first determine (indirectly) the most appropriate number of factors.\n",
    "We use the prior on the loadings matrix to shrink the number of factors.\n",
    "Basically, "
   ]
  },
  {
   "cell_type": "code",
   "execution_count": null,
   "metadata": {},
   "outputs": [],
   "source": []
  },
  {
   "cell_type": "code",
   "execution_count": null,
   "metadata": {},
   "outputs": [],
   "source": []
  },
  {
   "cell_type": "code",
   "execution_count": null,
   "metadata": {},
   "outputs": [],
   "source": []
  },
  {
   "cell_type": "code",
   "execution_count": null,
   "metadata": {},
   "outputs": [],
   "source": []
  },
  {
   "cell_type": "code",
   "execution_count": null,
   "metadata": {},
   "outputs": [],
   "source": []
  },
  {
   "cell_type": "code",
   "execution_count": null,
   "metadata": {},
   "outputs": [],
   "source": []
  },
  {
   "cell_type": "code",
   "execution_count": null,
   "metadata": {},
   "outputs": [],
   "source": []
  },
  {
   "cell_type": "markdown",
   "metadata": {},
   "source": [
    "### Trait labels (for plotting)\n",
    "\n",
    "The first column should correspond to the column names of the data file (excluding the first \"taxon\" column). Note that you can rearrange the order as long as all entries are there.\n",
    "\n",
    "The second column should be the labels that you want to see on the final plot at the end."
   ]
  },
  {
   "cell_type": "code",
   "execution_count": 16,
   "metadata": {},
   "outputs": [
    {
     "data": {
      "text/html": [
       "<table class=\"data-frame\"><thead><tr><th></th><th>label</th><th>pretty</th><th>cat</th></tr><tr><th></th><th>String</th><th>String</th><th>String</th></tr></thead><tbody><p>8 rows × 3 columns</p><tr><th>1</th><td>body_mass</td><td>body mass</td><td>NA</td></tr><tr><th>2</th><td>neonate_body_mass</td><td>neonate body mass</td><td>NA</td></tr><tr><th>3</th><td>gestation_length</td><td>gestation length</td><td>NA</td></tr><tr><th>4</th><td>weaning_age</td><td>weaning age</td><td>NA</td></tr><tr><th>5</th><td>age_at_first_birth</td><td>age at first birth</td><td>NA</td></tr><tr><th>6</th><td>reproductive_lifespan</td><td>reproductive lifespan</td><td>NA</td></tr><tr><th>7</th><td>litter_size</td><td>litter size</td><td>NA</td></tr><tr><th>8</th><td>litters_per_year</td><td>litters per year</td><td>NA</td></tr></tbody></table>"
      ],
      "text/latex": [
       "\\begin{tabular}{r|ccc}\n",
       "\t& label & pretty & cat\\\\\n",
       "\t\\hline\n",
       "\t& String & String & String\\\\\n",
       "\t\\hline\n",
       "\t1 & body\\_mass & body mass & NA \\\\\n",
       "\t2 & neonate\\_body\\_mass & neonate body mass & NA \\\\\n",
       "\t3 & gestation\\_length & gestation length & NA \\\\\n",
       "\t4 & weaning\\_age & weaning age & NA \\\\\n",
       "\t5 & age\\_at\\_first\\_birth & age at first birth & NA \\\\\n",
       "\t6 & reproductive\\_lifespan & reproductive lifespan & NA \\\\\n",
       "\t7 & litter\\_size & litter size & NA \\\\\n",
       "\t8 & litters\\_per\\_year & litters per year & NA \\\\\n",
       "\\end{tabular}\n"
      ],
      "text/plain": [
       "8×3 DataFrame\n",
       "│ Row │ label                 │ pretty                │ cat    │\n",
       "│     │ \u001b[90mString\u001b[39m                │ \u001b[90mString\u001b[39m                │ \u001b[90mString\u001b[39m │\n",
       "├─────┼───────────────────────┼───────────────────────┼────────┤\n",
       "│ 1   │ body_mass             │ body mass             │ NA     │\n",
       "│ 2   │ neonate_body_mass     │ neonate body mass     │ NA     │\n",
       "│ 3   │ gestation_length      │ gestation length      │ NA     │\n",
       "│ 4   │ weaning_age           │ weaning age           │ NA     │\n",
       "│ 5   │ age_at_first_birth    │ age at first birth    │ NA     │\n",
       "│ 6   │ reproductive_lifespan │ reproductive lifespan │ NA     │\n",
       "│ 7   │ litter_size           │ litter size           │ NA     │\n",
       "│ 8   │ litters_per_year      │ litters per year      │ NA     │"
      ]
     },
     "execution_count": 16,
     "metadata": {},
     "output_type": "execute_result"
    }
   ],
   "source": [
    "CSV.read(\"mammals_labels.csv\")"
   ]
  },
  {
   "cell_type": "markdown",
   "metadata": {},
   "source": []
  }
 ],
 "metadata": {
  "kernelspec": {
   "display_name": "Julia 1.4.0",
   "language": "julia",
   "name": "julia-1.4"
  },
  "language_info": {
   "file_extension": ".jl",
   "mimetype": "application/julia",
   "name": "julia",
   "version": "1.4.0"
  }
 },
 "nbformat": 4,
 "nbformat_minor": 2
}
